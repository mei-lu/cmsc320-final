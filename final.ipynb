{
 "cells": [
  {
   "cell_type": "markdown",
   "metadata": {},
   "source": [
    "# Webtoons: What makes a Webtoon Series Popular in 2022?\n",
    "## Data Science Tutorial\n",
    "Mei Lu\n",
    "CMSC320\n",
    "\n",
    "#### Background\n",
    "Webtoons are a type of digital comic that originated in South Korea usually meant to be read on computers and smartphones. Webtoons usually feature a few of common traits: each episode is published on one long, vertical strip (making use of an infinite canvas rather than multiple pages so that it is easier to read on a smartphone or computer); some will feature music and animations that play during each chapter; and unlike the majority of East Asian comics, they will most likely be in color rather than black-and-white since they are published digitally on a website or app rather than physically in a magazine.\n",
    "\n",
    "[Source](https://en.wikipedia.org/wiki/Webtoon)\n",
    "\n",
    "#### Motivation\n",
    "\n",
    "I have always been a fan of reading comics and Webtoons since I was a kid. Nowadays with the explosion of Webtoon on a international scale, they have become so popular that TV adaptations of them have come out. I would like to find out what elements make a webtoon series successful and amass millions of readers. Is there a special formula? Is it pure luck? Has the elements to be popular changed over the years? Let's find out what makes a webtoon series popular in current times by analyzing some data scraped from the [Webtoons](https://webtoons.com) site."
   ]
  },
  {
   "cell_type": "markdown",
   "metadata": {},
   "source": [
    "### Part 1: Data Collection\n",
    "\n",
    "Let's begin by loading the data and taking care of the required imports!\n",
    "\n",
    "The dataset contains +700 unique webtoons with 19 columns containing general information. The information contained in this dataset includes genres, authors, views, likes and etc. \n",
    "\n",
    "[Dataset Source](https://www.kaggle.com/datasets/victorsoeiro/webtoons-dataset)\n",
    "\n",
    "I chose this data source because it contains premium webtoons, which are the ones most that readers can pay to read ahead for. Since anyone can publish a webtoon on the site, this eliminates all the webtoons that are not popular with no readership, so that there is less tidying of the data that we have to do. The formatting of this dataset is also well done, with few to no inconsistencies."
   ]
  },
  {
   "cell_type": "code",
   "execution_count": 45,
   "metadata": {},
   "outputs": [],
   "source": [
    "import pandas as pd\n",
    "import numpy as np\n",
    "import matplotlib.pyplot as plt"
   ]
  },
  {
   "cell_type": "code",
   "execution_count": 44,
   "metadata": {},
   "outputs": [
    {
     "data": {
      "text/html": [
       "<div>\n",
       "<style scoped>\n",
       "    .dataframe tbody tr th:only-of-type {\n",
       "        vertical-align: middle;\n",
       "    }\n",
       "\n",
       "    .dataframe tbody tr th {\n",
       "        vertical-align: top;\n",
       "    }\n",
       "\n",
       "    .dataframe thead th {\n",
       "        text-align: right;\n",
       "    }\n",
       "</style>\n",
       "<table border=\"1\" class=\"dataframe\">\n",
       "  <thead>\n",
       "    <tr style=\"text-align: right;\">\n",
       "      <th></th>\n",
       "      <th>webtoon_id</th>\n",
       "      <th>title</th>\n",
       "      <th>genre</th>\n",
       "      <th>thumbnail</th>\n",
       "      <th>summary</th>\n",
       "      <th>episodes</th>\n",
       "      <th>Created by</th>\n",
       "      <th>view</th>\n",
       "      <th>subscribe</th>\n",
       "      <th>grade</th>\n",
       "      <th>released_date</th>\n",
       "      <th>url</th>\n",
       "      <th>cover</th>\n",
       "      <th>likes</th>\n",
       "      <th>Written by</th>\n",
       "      <th>Art by</th>\n",
       "      <th>Adapted by</th>\n",
       "      <th>Original work by</th>\n",
       "      <th>Assisted by</th>\n",
       "    </tr>\n",
       "  </thead>\n",
       "  <tbody>\n",
       "    <tr>\n",
       "      <th>0</th>\n",
       "      <td>1218</td>\n",
       "      <td>Let's Play</td>\n",
       "      <td>Romance</td>\n",
       "      <td>https://webtoon-phinf.pstatic.net/20210629_103...</td>\n",
       "      <td>She’s young, single and about to achieve her d...</td>\n",
       "      <td>171</td>\n",
       "      <td>Leeanne M. Krecic (Mongie)</td>\n",
       "      <td>606.5M</td>\n",
       "      <td>4.6M</td>\n",
       "      <td>9.59</td>\n",
       "      <td>Nov 6, 2017</td>\n",
       "      <td>https://www.webtoons.com/en/romance/letsplay/l...</td>\n",
       "      <td>https://webtoon-phinf.pstatic.net/20210629_163...</td>\n",
       "      <td>37.2M</td>\n",
       "      <td>NaN</td>\n",
       "      <td>NaN</td>\n",
       "      <td>NaN</td>\n",
       "      <td>NaN</td>\n",
       "      <td>NaN</td>\n",
       "    </tr>\n",
       "    <tr>\n",
       "      <th>1</th>\n",
       "      <td>1436</td>\n",
       "      <td>True Beauty</td>\n",
       "      <td>Romance</td>\n",
       "      <td>https://webtoon-phinf.pstatic.net/20210129_175...</td>\n",
       "      <td>After binge-watching beauty videos online, a s...</td>\n",
       "      <td>197</td>\n",
       "      <td>Yaongyi</td>\n",
       "      <td>874M</td>\n",
       "      <td>7M</td>\n",
       "      <td>9.53</td>\n",
       "      <td>Aug 15, 2018</td>\n",
       "      <td>https://www.webtoons.com/en/romance/truebeauty...</td>\n",
       "      <td>https://webtoon-phinf.pstatic.net/20210129_65/...</td>\n",
       "      <td>46.2M</td>\n",
       "      <td>NaN</td>\n",
       "      <td>NaN</td>\n",
       "      <td>NaN</td>\n",
       "      <td>NaN</td>\n",
       "      <td>NaN</td>\n",
       "    </tr>\n",
       "    <tr>\n",
       "      <th>2</th>\n",
       "      <td>2135</td>\n",
       "      <td>The Remarried Empress</td>\n",
       "      <td>Fantasy</td>\n",
       "      <td>https://webtoon-phinf.pstatic.net/20200904_29/...</td>\n",
       "      <td>Navier Ellie Trovi was an empress perfect in e...</td>\n",
       "      <td>110</td>\n",
       "      <td>NaN</td>\n",
       "      <td>231.3M</td>\n",
       "      <td>2.5M</td>\n",
       "      <td>9.87</td>\n",
       "      <td>Sep 5, 2020</td>\n",
       "      <td>https://www.webtoons.com/en/fantasy/the-remarr...</td>\n",
       "      <td>https://webtoon-phinf.pstatic.net/20200904_268...</td>\n",
       "      <td>21.2M</td>\n",
       "      <td>Alphatart</td>\n",
       "      <td>Sumpul</td>\n",
       "      <td>HereLee</td>\n",
       "      <td>NaN</td>\n",
       "      <td>NaN</td>\n",
       "    </tr>\n",
       "    <tr>\n",
       "      <th>3</th>\n",
       "      <td>1798</td>\n",
       "      <td>Midnight Poppy Land</td>\n",
       "      <td>Romance</td>\n",
       "      <td>https://webtoon-phinf.pstatic.net/20191119_132...</td>\n",
       "      <td>After making a grisly discovery in the country...</td>\n",
       "      <td>99</td>\n",
       "      <td>Lilydusk</td>\n",
       "      <td>198.8M</td>\n",
       "      <td>2.3M</td>\n",
       "      <td>9.80</td>\n",
       "      <td>Nov 22, 2019</td>\n",
       "      <td>https://www.webtoons.com/en/romance/midnight-p...</td>\n",
       "      <td>https://webtoon-phinf.pstatic.net/20191119_163...</td>\n",
       "      <td>13.5M</td>\n",
       "      <td>NaN</td>\n",
       "      <td>NaN</td>\n",
       "      <td>NaN</td>\n",
       "      <td>NaN</td>\n",
       "      <td>NaN</td>\n",
       "    </tr>\n",
       "    <tr>\n",
       "      <th>4</th>\n",
       "      <td>3416</td>\n",
       "      <td>Reunion</td>\n",
       "      <td>Romance</td>\n",
       "      <td>https://webtoon-phinf.pstatic.net/20220311_196...</td>\n",
       "      <td>After moving away for a decade, Rhea returns t...</td>\n",
       "      <td>9</td>\n",
       "      <td>stephattyy</td>\n",
       "      <td>7.1M</td>\n",
       "      <td>629,872</td>\n",
       "      <td>9.77</td>\n",
       "      <td>Mar 17, 2022</td>\n",
       "      <td>https://www.webtoons.com/en/romance/reunion/li...</td>\n",
       "      <td>https://webtoon-phinf.pstatic.net/20220311_14/...</td>\n",
       "      <td>570,151</td>\n",
       "      <td>NaN</td>\n",
       "      <td>NaN</td>\n",
       "      <td>NaN</td>\n",
       "      <td>NaN</td>\n",
       "      <td>NaN</td>\n",
       "    </tr>\n",
       "  </tbody>\n",
       "</table>\n",
       "</div>"
      ],
      "text/plain": [
       "   webtoon_id                  title    genre  \\\n",
       "0        1218             Let's Play  Romance   \n",
       "1        1436            True Beauty  Romance   \n",
       "2        2135  The Remarried Empress  Fantasy   \n",
       "3        1798    Midnight Poppy Land  Romance   \n",
       "4        3416                Reunion  Romance   \n",
       "\n",
       "                                           thumbnail  \\\n",
       "0  https://webtoon-phinf.pstatic.net/20210629_103...   \n",
       "1  https://webtoon-phinf.pstatic.net/20210129_175...   \n",
       "2  https://webtoon-phinf.pstatic.net/20200904_29/...   \n",
       "3  https://webtoon-phinf.pstatic.net/20191119_132...   \n",
       "4  https://webtoon-phinf.pstatic.net/20220311_196...   \n",
       "\n",
       "                                             summary  episodes  \\\n",
       "0  She’s young, single and about to achieve her d...       171   \n",
       "1  After binge-watching beauty videos online, a s...       197   \n",
       "2  Navier Ellie Trovi was an empress perfect in e...       110   \n",
       "3  After making a grisly discovery in the country...        99   \n",
       "4  After moving away for a decade, Rhea returns t...         9   \n",
       "\n",
       "                   Created by    view subscribe  grade released_date  \\\n",
       "0  Leeanne M. Krecic (Mongie)  606.5M      4.6M   9.59   Nov 6, 2017   \n",
       "1                     Yaongyi    874M        7M   9.53  Aug 15, 2018   \n",
       "2                         NaN  231.3M      2.5M   9.87   Sep 5, 2020   \n",
       "3                    Lilydusk  198.8M      2.3M   9.80  Nov 22, 2019   \n",
       "4                  stephattyy    7.1M   629,872   9.77  Mar 17, 2022   \n",
       "\n",
       "                                                 url  \\\n",
       "0  https://www.webtoons.com/en/romance/letsplay/l...   \n",
       "1  https://www.webtoons.com/en/romance/truebeauty...   \n",
       "2  https://www.webtoons.com/en/fantasy/the-remarr...   \n",
       "3  https://www.webtoons.com/en/romance/midnight-p...   \n",
       "4  https://www.webtoons.com/en/romance/reunion/li...   \n",
       "\n",
       "                                               cover    likes Written by  \\\n",
       "0  https://webtoon-phinf.pstatic.net/20210629_163...    37.2M        NaN   \n",
       "1  https://webtoon-phinf.pstatic.net/20210129_65/...    46.2M        NaN   \n",
       "2  https://webtoon-phinf.pstatic.net/20200904_268...    21.2M  Alphatart   \n",
       "3  https://webtoon-phinf.pstatic.net/20191119_163...    13.5M        NaN   \n",
       "4  https://webtoon-phinf.pstatic.net/20220311_14/...  570,151        NaN   \n",
       "\n",
       "   Art by Adapted by Original work by Assisted by  \n",
       "0     NaN        NaN              NaN         NaN  \n",
       "1     NaN        NaN              NaN         NaN  \n",
       "2  Sumpul    HereLee              NaN         NaN  \n",
       "3     NaN        NaN              NaN         NaN  \n",
       "4     NaN        NaN              NaN         NaN  "
      ]
     },
     "execution_count": 44,
     "metadata": {},
     "output_type": "execute_result"
    }
   ],
   "source": [
    "# Import the data and peek the beginning of the table\n",
    "\n",
    "dataset = pd.read_csv('data.csv')\n",
    "dataset.head()"
   ]
  },
  {
   "cell_type": "markdown",
   "metadata": {},
   "source": [
    "#### Formatting\n",
    "\n",
    "#### Check for Duplicates\n",
    "First, let's check for duplicate entries in this dataset based on the series names in the table. "
   ]
  },
  {
   "cell_type": "code",
   "execution_count": 46,
   "metadata": {},
   "outputs": [
    {
     "data": {
      "text/plain": [
       "True"
      ]
     },
     "execution_count": 46,
     "metadata": {},
     "output_type": "execute_result"
    }
   ],
   "source": [
    "# Check if all titles are unique\n",
    "dataset['title'].is_unique # This is true!"
   ]
  },
  {
   "cell_type": "markdown",
   "metadata": {},
   "source": [
    "#### Handling and Checking of NaN Data\n",
    "It's not problematic to have missing values in the 'Written by', 'Art by', 'Adapted by', 'Original work by', 'Assisted by' etc.  columns as some of the information do not apply, but we do need to check if there are NaN values for the series' title, created by, genre, subscribe, likes, summary, episodes, and released_data columns since we will need to use them in our visualizations and analysis. If there exists NaN data in these important columns, we'll need to come up with a way to handle it."
   ]
  },
  {
   "cell_type": "code",
   "execution_count": 47,
   "metadata": {},
   "outputs": [
    {
     "name": "stdout",
     "output_type": "stream",
     "text": [
      "Check for NaN values:\n",
      "False\n",
      "False\n",
      "False\n",
      "False\n",
      "False\n",
      "False\n",
      "False\n",
      "False\n",
      "False\n"
     ]
    }
   ],
   "source": [
    "#Check for NaN Values\n",
    "print('Check for NaN values:')\n",
    "print(dataset['released_date'].isnull().values.any())\n",
    "print(dataset['title'].isnull().values.any())\n",
    "print(dataset['genre'].isnull().values.any())\n",
    "print(dataset['summary'].isnull().values.any())\n",
    "print(dataset['episodes'].isnull().values.any())\n",
    "print(dataset['view'].isnull().values.any())\n",
    "print(dataset['subscribe'].isnull().values.any())\n",
    "print(dataset['grade'].isnull().values.any())\n",
    "print(dataset['likes'].isnull().values.any())"
   ]
  },
  {
   "cell_type": "markdown",
   "metadata": {},
   "source": [
    "#### Add a column for published year\n",
    "Let's add a column to indicate the publishing year for the webtoon series. This will come in handy later when we compare their metrics by year, as some indicators such as 'likes' and 'subscribers' can accumulate more if the webtoon is older. Thus it is unfair to compare all the webtoons together without taking this into account."
   ]
  },
  {
   "cell_type": "code",
   "execution_count": 48,
   "metadata": {},
   "outputs": [
    {
     "name": "stdout",
     "output_type": "stream",
     "text": [
      "Preview of released_year column:\n"
     ]
    },
    {
     "data": {
      "text/plain": [
       "0    2017\n",
       "1    2018\n",
       "2    2020\n",
       "3    2019\n",
       "4    2022\n",
       "Name: released_year, dtype: int64"
      ]
     },
     "execution_count": 48,
     "metadata": {},
     "output_type": "execute_result"
    }
   ],
   "source": [
    "# Add a column for publishing year\n",
    "print('Preview of released_year column:')\n",
    "dataset['released_year'] = pd.DatetimeIndex(dataset['released_date']).year\n",
    "dataset['released_year'].head()"
   ]
  },
  {
   "cell_type": "markdown",
   "metadata": {},
   "source": [
    "#### Number Formatting\n",
    "Like and subscriber counts sometimes abbreviate millions into the symbol 'M', which will not be helpful when we want to make calculations with it. Let's convert all of these text representations in the table into numerical values!\n",
    "\n",
    "We must also convert these columns from string to numerical types."
   ]
  },
  {
   "cell_type": "code",
   "execution_count": 50,
   "metadata": {},
   "outputs": [
    {
     "name": "stdout",
     "output_type": "stream",
     "text": [
      "Before Conversion:\n",
      "0       4.6M\n",
      "1         7M\n",
      "2       2.5M\n",
      "3       2.3M\n",
      "4    629,872\n",
      "Name: subscribe, dtype: object\n",
      "0      37.2M\n",
      "1      46.2M\n",
      "2      21.2M\n",
      "3      13.5M\n",
      "4    570,151\n",
      "Name: likes, dtype: object\n"
     ]
    },
    {
     "ename": "AttributeError",
     "evalue": "'Series' object has no attribute 'to_numeric'",
     "output_type": "error",
     "traceback": [
      "\u001b[1;31m---------------------------------------------------------------------------\u001b[0m",
      "\u001b[1;31mAttributeError\u001b[0m                            Traceback (most recent call last)",
      "\u001b[1;32mc:\\Users\\meilu\\OneDrive\\Documents\\UMD\\320\\spring2022\\final\\final.ipynb Cell 12'\u001b[0m in \u001b[0;36m<cell line: 21>\u001b[1;34m()\u001b[0m\n\u001b[0;32m     <a href='vscode-notebook-cell:/c%3A/Users/meilu/OneDrive/Documents/UMD/320/spring2022/final/final.ipynb#ch0000021?line=17'>18</a>\u001b[0m     \u001b[39mreturn\u001b[39;00m x\n\u001b[0;32m     <a href='vscode-notebook-cell:/c%3A/Users/meilu/OneDrive/Documents/UMD/320/spring2022/final/final.ipynb#ch0000021?line=19'>20</a>\u001b[0m dataset[\u001b[39m'\u001b[39m\u001b[39msubscribe\u001b[39m\u001b[39m'\u001b[39m] \u001b[39m=\u001b[39m dataset[\u001b[39m'\u001b[39m\u001b[39msubscribe\u001b[39m\u001b[39m'\u001b[39m]\u001b[39m.\u001b[39mapply(value_to_float)\n\u001b[1;32m---> <a href='vscode-notebook-cell:/c%3A/Users/meilu/OneDrive/Documents/UMD/320/spring2022/final/final.ipynb#ch0000021?line=20'>21</a>\u001b[0m dataset[\u001b[39m'\u001b[39m\u001b[39mlikes\u001b[39m\u001b[39m'\u001b[39m] \u001b[39m=\u001b[39m dataset[\u001b[39m'\u001b[39;49m\u001b[39mlikes\u001b[39;49m\u001b[39m'\u001b[39;49m]\u001b[39m.\u001b[39;49mapply(value_to_float)\u001b[39m.\u001b[39;49mto_numeric()\n\u001b[0;32m     <a href='vscode-notebook-cell:/c%3A/Users/meilu/OneDrive/Documents/UMD/320/spring2022/final/final.ipynb#ch0000021?line=22'>23</a>\u001b[0m pd\u001b[39m.\u001b[39mto_numeric(dataset[\u001b[39m'\u001b[39m\u001b[39msubscribe\u001b[39m\u001b[39m'\u001b[39m])\n\u001b[0;32m     <a href='vscode-notebook-cell:/c%3A/Users/meilu/OneDrive/Documents/UMD/320/spring2022/final/final.ipynb#ch0000021?line=23'>24</a>\u001b[0m pd\u001b[39m.\u001b[39mto_numeric(dataset[\u001b[39m'\u001b[39m\u001b[39mlikes\u001b[39m\u001b[39m'\u001b[39m])\n",
      "File \u001b[1;32m~\\AppData\\Local\\Programs\\Python\\Python310\\lib\\site-packages\\pandas\\core\\generic.py:5575\u001b[0m, in \u001b[0;36mNDFrame.__getattr__\u001b[1;34m(self, name)\u001b[0m\n\u001b[0;32m   <a href='file:///c%3A/Users/meilu/AppData/Local/Programs/Python/Python310/lib/site-packages/pandas/core/generic.py?line=5567'>5568</a>\u001b[0m \u001b[39mif\u001b[39;00m (\n\u001b[0;32m   <a href='file:///c%3A/Users/meilu/AppData/Local/Programs/Python/Python310/lib/site-packages/pandas/core/generic.py?line=5568'>5569</a>\u001b[0m     name \u001b[39mnot\u001b[39;00m \u001b[39min\u001b[39;00m \u001b[39mself\u001b[39m\u001b[39m.\u001b[39m_internal_names_set\n\u001b[0;32m   <a href='file:///c%3A/Users/meilu/AppData/Local/Programs/Python/Python310/lib/site-packages/pandas/core/generic.py?line=5569'>5570</a>\u001b[0m     \u001b[39mand\u001b[39;00m name \u001b[39mnot\u001b[39;00m \u001b[39min\u001b[39;00m \u001b[39mself\u001b[39m\u001b[39m.\u001b[39m_metadata\n\u001b[0;32m   <a href='file:///c%3A/Users/meilu/AppData/Local/Programs/Python/Python310/lib/site-packages/pandas/core/generic.py?line=5570'>5571</a>\u001b[0m     \u001b[39mand\u001b[39;00m name \u001b[39mnot\u001b[39;00m \u001b[39min\u001b[39;00m \u001b[39mself\u001b[39m\u001b[39m.\u001b[39m_accessors\n\u001b[0;32m   <a href='file:///c%3A/Users/meilu/AppData/Local/Programs/Python/Python310/lib/site-packages/pandas/core/generic.py?line=5571'>5572</a>\u001b[0m     \u001b[39mand\u001b[39;00m \u001b[39mself\u001b[39m\u001b[39m.\u001b[39m_info_axis\u001b[39m.\u001b[39m_can_hold_identifiers_and_holds_name(name)\n\u001b[0;32m   <a href='file:///c%3A/Users/meilu/AppData/Local/Programs/Python/Python310/lib/site-packages/pandas/core/generic.py?line=5572'>5573</a>\u001b[0m ):\n\u001b[0;32m   <a href='file:///c%3A/Users/meilu/AppData/Local/Programs/Python/Python310/lib/site-packages/pandas/core/generic.py?line=5573'>5574</a>\u001b[0m     \u001b[39mreturn\u001b[39;00m \u001b[39mself\u001b[39m[name]\n\u001b[1;32m-> <a href='file:///c%3A/Users/meilu/AppData/Local/Programs/Python/Python310/lib/site-packages/pandas/core/generic.py?line=5574'>5575</a>\u001b[0m \u001b[39mreturn\u001b[39;00m \u001b[39mobject\u001b[39;49m\u001b[39m.\u001b[39;49m\u001b[39m__getattribute__\u001b[39;49m(\u001b[39mself\u001b[39;49m, name)\n",
      "\u001b[1;31mAttributeError\u001b[0m: 'Series' object has no attribute 'to_numeric'"
     ]
    }
   ],
   "source": [
    "# We can make a function since we have to apply this both to the subscribe column and the likes column\n",
    "\n",
    "print(\"Before Conversion:\")\n",
    "print(dataset['subscribe'].head())\n",
    "print(dataset['likes'].head())\n",
    "def value_to_float(x):\n",
    "    # Depending on the ending of the number, append the correct amount of zeroes\n",
    "    if 'K' in x:\n",
    "        if len(x) > 1:\n",
    "            return float(x.replace('K', '')) * 1000\n",
    "        return 1000.0\n",
    "    if 'M' in x:\n",
    "        if len(x) > 1:\n",
    "            return float(x.replace('M', '')) * 1000000\n",
    "        return 1000000.0\n",
    "    if 'B' in x:\n",
    "        return float(x.replace('B', '')) * 1000000000\n",
    "    return x\n",
    "\n",
    "dataset['subscribe'] = dataset['subscribe'].apply(value_to_float)\n",
    "dataset['likes'] = dataset['likes'].apply(value_to_float).to_numeric()\n",
    "\n",
    "# Convert to numeric type\n",
    "pd.to_numeric(dataset['subscribe'])\n",
    "pd.to_numeric(dataset['likes'])\n",
    "\n",
    "print(\"After Conversion:\")\n",
    "print(dataset['subscribe'].head())\n",
    "print(dataset['likes'].head())"
   ]
  },
  {
   "cell_type": "markdown",
   "metadata": {},
   "source": [
    "### Part 2: Data Management / Representation\n",
    "\n",
    "Now that we have verified values and tidied our data, let's do some visualizations to see if we find anything interesting!\n",
    "\n",
    "- Median Subscribers by Published Year\n",
    "- Correlation Between Likes and Subscribers\n",
    "- Correlation Between Grade and Subscribers\n",
    "- Top 10 Webtoon Authors' number of Series\n",
    "\n",
    "#### Why Focus on Subscribership?\n",
    "The above visualizations I have chosen all have to do with subscriber count (with the exception of one). When a reader subscribes to a story, indicating some sort of investment in it. Subscriptions matter more than views, since the website and application can choose to promote a webtoon, yet it's not an indicator of it having lasting popularity.\n",
    "\n",
    "Subscribers can accumulate over time, thus this metric could bias towards older Webtoons. To mitigate this issue, I decided to also visualize a lot of the data by year to see a more accurate representation of the popular webtoons both of all time and recently. We can also compare webtoons published in the same year to have a better comparison between their subscriber counts. I chose to use the Median as a measure that isn't as affected by skew as the mean, to account for certain series that may be outliers and explode in popularity compared to the other webtoons."
   ]
  },
  {
   "cell_type": "code",
   "execution_count": 42,
   "metadata": {},
   "outputs": [
    {
     "ename": "AttributeError",
     "evalue": "'str' object has no attribute 'median'",
     "output_type": "error",
     "traceback": [
      "\u001b[1;31m---------------------------------------------------------------------------\u001b[0m",
      "\u001b[1;31mAttributeError\u001b[0m                            Traceback (most recent call last)",
      "\u001b[1;32mc:\\Users\\meilu\\OneDrive\\Documents\\UMD\\320\\spring2022\\final\\final.ipynb Cell 14'\u001b[0m in \u001b[0;36m<cell line: 5>\u001b[1;34m()\u001b[0m\n\u001b[0;32m      <a href='vscode-notebook-cell:/c%3A/Users/meilu/OneDrive/Documents/UMD/320/spring2022/final/final.ipynb#ch0000009?line=5'>6</a>\u001b[0m year_list\u001b[39m.\u001b[39mappend(name) \u001b[39m# Adds current year to list\u001b[39;00m\n\u001b[0;32m      <a href='vscode-notebook-cell:/c%3A/Users/meilu/OneDrive/Documents/UMD/320/spring2022/final/final.ipynb#ch0000009?line=7'>8</a>\u001b[0m \u001b[39mfor\u001b[39;00m row_index, row \u001b[39min\u001b[39;00m group\u001b[39m.\u001b[39miterrows():\n\u001b[1;32m----> <a href='vscode-notebook-cell:/c%3A/Users/meilu/OneDrive/Documents/UMD/320/spring2022/final/final.ipynb#ch0000009?line=8'>9</a>\u001b[0m     \u001b[39mprint\u001b[39m(row[\u001b[39m'\u001b[39;49m\u001b[39msubscribe\u001b[39;49m\u001b[39m'\u001b[39;49m]\u001b[39m.\u001b[39;49mmedian())\n",
      "\u001b[1;31mAttributeError\u001b[0m: 'str' object has no attribute 'median'"
     ]
    }
   ],
   "source": [
    "year_list = []\n",
    "\n",
    "# Median Subscribers by Published Year\n",
    "group_yr = dataset.groupby('released_year')\n",
    "for name, group in group_yr:\n",
    "    year_list.append(name) # Adds current year to list\n",
    "\n",
    "    for row_index, row in group.iterrows():\n",
    "        print(row['subscribe'].median())\n",
    "# np.median(dataset['subscribe'])\n",
    "# plt.bar(year_list, )"
   ]
  },
  {
   "cell_type": "code",
   "execution_count": null,
   "metadata": {},
   "outputs": [
    {
     "ename": "TypeError",
     "evalue": "Cannot use method 'nlargest' with dtype object",
     "output_type": "error",
     "traceback": [
      "\u001b[1;31m---------------------------------------------------------------------------\u001b[0m",
      "\u001b[1;31mTypeError\u001b[0m                                 Traceback (most recent call last)",
      "\u001b[1;32mc:\\Users\\meilu\\OneDrive\\Documents\\UMD\\320\\spring2022\\final\\final.ipynb Cell 10'\u001b[0m in \u001b[0;36m<cell line: 2>\u001b[1;34m()\u001b[0m\n\u001b[0;32m      <a href='vscode-notebook-cell:/c%3A/Users/meilu/OneDrive/Documents/UMD/320/spring2022/final/final.ipynb#ch0000007?line=0'>1</a>\u001b[0m \u001b[39m# Top 100 Subscribed Webtoons of All Time\u001b[39;00m\n\u001b[1;32m----> <a href='vscode-notebook-cell:/c%3A/Users/meilu/OneDrive/Documents/UMD/320/spring2022/final/final.ipynb#ch0000007?line=1'>2</a>\u001b[0m top_100_sub_all \u001b[39m=\u001b[39m dataset\u001b[39m.\u001b[39;49mgroupby(by\u001b[39m=\u001b[39;49m\u001b[39m\"\u001b[39;49m\u001b[39mreleased_year\u001b[39;49m\u001b[39m\"\u001b[39;49m)[\u001b[39m\"\u001b[39;49m\u001b[39msubscribe\u001b[39;49m\u001b[39m\"\u001b[39;49m]\u001b[39m.\u001b[39;49mnlargest(n\u001b[39m=\u001b[39;49m\u001b[39m10\u001b[39;49m)\n\u001b[0;32m      <a href='vscode-notebook-cell:/c%3A/Users/meilu/OneDrive/Documents/UMD/320/spring2022/final/final.ipynb#ch0000007?line=2'>3</a>\u001b[0m top_100_sub_all\n",
      "File \u001b[1;32m~\\AppData\\Local\\Programs\\Python\\Python310\\lib\\site-packages\\pandas\\core\\groupby\\generic.py:750\u001b[0m, in \u001b[0;36mSeriesGroupBy.nlargest\u001b[1;34m(self, n, keep)\u001b[0m\n\u001b[0;32m    <a href='file:///c%3A/Users/meilu/AppData/Local/Programs/Python/Python310/lib/site-packages/pandas/core/groupby/generic.py?line=746'>747</a>\u001b[0m data \u001b[39m=\u001b[39m \u001b[39mself\u001b[39m\u001b[39m.\u001b[39m_obj_with_exclusions\n\u001b[0;32m    <a href='file:///c%3A/Users/meilu/AppData/Local/Programs/Python/Python310/lib/site-packages/pandas/core/groupby/generic.py?line=747'>748</a>\u001b[0m \u001b[39m# Don't change behavior if result index happens to be the same, i.e.\u001b[39;00m\n\u001b[0;32m    <a href='file:///c%3A/Users/meilu/AppData/Local/Programs/Python/Python310/lib/site-packages/pandas/core/groupby/generic.py?line=748'>749</a>\u001b[0m \u001b[39m# already ordered and n >= all group sizes.\u001b[39;00m\n\u001b[1;32m--> <a href='file:///c%3A/Users/meilu/AppData/Local/Programs/Python/Python310/lib/site-packages/pandas/core/groupby/generic.py?line=749'>750</a>\u001b[0m result \u001b[39m=\u001b[39m \u001b[39mself\u001b[39;49m\u001b[39m.\u001b[39;49m_python_apply_general(f, data, not_indexed_same\u001b[39m=\u001b[39;49m\u001b[39mTrue\u001b[39;49;00m)\n\u001b[0;32m    <a href='file:///c%3A/Users/meilu/AppData/Local/Programs/Python/Python310/lib/site-packages/pandas/core/groupby/generic.py?line=750'>751</a>\u001b[0m \u001b[39mreturn\u001b[39;00m result\n",
      "File \u001b[1;32m~\\AppData\\Local\\Programs\\Python\\Python310\\lib\\site-packages\\pandas\\core\\groupby\\groupby.py:1455\u001b[0m, in \u001b[0;36mGroupBy._python_apply_general\u001b[1;34m(self, f, data, not_indexed_same)\u001b[0m\n\u001b[0;32m   <a href='file:///c%3A/Users/meilu/AppData/Local/Programs/Python/Python310/lib/site-packages/pandas/core/groupby/groupby.py?line=1428'>1429</a>\u001b[0m \u001b[39m@final\u001b[39m\n\u001b[0;32m   <a href='file:///c%3A/Users/meilu/AppData/Local/Programs/Python/Python310/lib/site-packages/pandas/core/groupby/groupby.py?line=1429'>1430</a>\u001b[0m \u001b[39mdef\u001b[39;00m \u001b[39m_python_apply_general\u001b[39m(\n\u001b[0;32m   <a href='file:///c%3A/Users/meilu/AppData/Local/Programs/Python/Python310/lib/site-packages/pandas/core/groupby/groupby.py?line=1430'>1431</a>\u001b[0m     \u001b[39mself\u001b[39m,\n\u001b[1;32m   (...)\u001b[0m\n\u001b[0;32m   <a href='file:///c%3A/Users/meilu/AppData/Local/Programs/Python/Python310/lib/site-packages/pandas/core/groupby/groupby.py?line=1433'>1434</a>\u001b[0m     not_indexed_same: \u001b[39mbool\u001b[39m \u001b[39m|\u001b[39m \u001b[39mNone\u001b[39;00m \u001b[39m=\u001b[39m \u001b[39mNone\u001b[39;00m,\n\u001b[0;32m   <a href='file:///c%3A/Users/meilu/AppData/Local/Programs/Python/Python310/lib/site-packages/pandas/core/groupby/groupby.py?line=1434'>1435</a>\u001b[0m ) \u001b[39m-\u001b[39m\u001b[39m>\u001b[39m DataFrame \u001b[39m|\u001b[39m Series:\n\u001b[0;32m   <a href='file:///c%3A/Users/meilu/AppData/Local/Programs/Python/Python310/lib/site-packages/pandas/core/groupby/groupby.py?line=1435'>1436</a>\u001b[0m     \u001b[39m\"\"\"\u001b[39;00m\n\u001b[0;32m   <a href='file:///c%3A/Users/meilu/AppData/Local/Programs/Python/Python310/lib/site-packages/pandas/core/groupby/groupby.py?line=1436'>1437</a>\u001b[0m \u001b[39m    Apply function f in python space\u001b[39;00m\n\u001b[0;32m   <a href='file:///c%3A/Users/meilu/AppData/Local/Programs/Python/Python310/lib/site-packages/pandas/core/groupby/groupby.py?line=1437'>1438</a>\u001b[0m \n\u001b[1;32m   (...)\u001b[0m\n\u001b[0;32m   <a href='file:///c%3A/Users/meilu/AppData/Local/Programs/Python/Python310/lib/site-packages/pandas/core/groupby/groupby.py?line=1452'>1453</a>\u001b[0m \u001b[39m        data after applying f\u001b[39;00m\n\u001b[0;32m   <a href='file:///c%3A/Users/meilu/AppData/Local/Programs/Python/Python310/lib/site-packages/pandas/core/groupby/groupby.py?line=1453'>1454</a>\u001b[0m \u001b[39m    \"\"\"\u001b[39;00m\n\u001b[1;32m-> <a href='file:///c%3A/Users/meilu/AppData/Local/Programs/Python/Python310/lib/site-packages/pandas/core/groupby/groupby.py?line=1454'>1455</a>\u001b[0m     values, mutated \u001b[39m=\u001b[39m \u001b[39mself\u001b[39;49m\u001b[39m.\u001b[39;49mgrouper\u001b[39m.\u001b[39;49mapply(f, data, \u001b[39mself\u001b[39;49m\u001b[39m.\u001b[39;49maxis)\n\u001b[0;32m   <a href='file:///c%3A/Users/meilu/AppData/Local/Programs/Python/Python310/lib/site-packages/pandas/core/groupby/groupby.py?line=1456'>1457</a>\u001b[0m     \u001b[39mif\u001b[39;00m not_indexed_same \u001b[39mis\u001b[39;00m \u001b[39mNone\u001b[39;00m:\n\u001b[0;32m   <a href='file:///c%3A/Users/meilu/AppData/Local/Programs/Python/Python310/lib/site-packages/pandas/core/groupby/groupby.py?line=1457'>1458</a>\u001b[0m         not_indexed_same \u001b[39m=\u001b[39m mutated \u001b[39mor\u001b[39;00m \u001b[39mself\u001b[39m\u001b[39m.\u001b[39mmutated\n",
      "File \u001b[1;32m~\\AppData\\Local\\Programs\\Python\\Python310\\lib\\site-packages\\pandas\\core\\groupby\\ops.py:761\u001b[0m, in \u001b[0;36mBaseGrouper.apply\u001b[1;34m(self, f, data, axis)\u001b[0m\n\u001b[0;32m    <a href='file:///c%3A/Users/meilu/AppData/Local/Programs/Python/Python310/lib/site-packages/pandas/core/groupby/ops.py?line=758'>759</a>\u001b[0m \u001b[39m# group might be modified\u001b[39;00m\n\u001b[0;32m    <a href='file:///c%3A/Users/meilu/AppData/Local/Programs/Python/Python310/lib/site-packages/pandas/core/groupby/ops.py?line=759'>760</a>\u001b[0m group_axes \u001b[39m=\u001b[39m group\u001b[39m.\u001b[39maxes\n\u001b[1;32m--> <a href='file:///c%3A/Users/meilu/AppData/Local/Programs/Python/Python310/lib/site-packages/pandas/core/groupby/ops.py?line=760'>761</a>\u001b[0m res \u001b[39m=\u001b[39m f(group)\n\u001b[0;32m    <a href='file:///c%3A/Users/meilu/AppData/Local/Programs/Python/Python310/lib/site-packages/pandas/core/groupby/ops.py?line=761'>762</a>\u001b[0m \u001b[39mif\u001b[39;00m \u001b[39mnot\u001b[39;00m mutated \u001b[39mand\u001b[39;00m \u001b[39mnot\u001b[39;00m _is_indexed_like(res, group_axes, axis):\n\u001b[0;32m    <a href='file:///c%3A/Users/meilu/AppData/Local/Programs/Python/Python310/lib/site-packages/pandas/core/groupby/ops.py?line=762'>763</a>\u001b[0m     mutated \u001b[39m=\u001b[39m \u001b[39mTrue\u001b[39;00m\n",
      "File \u001b[1;32m~\\AppData\\Local\\Programs\\Python\\Python310\\lib\\site-packages\\pandas\\core\\series.py:3836\u001b[0m, in \u001b[0;36mSeries.nlargest\u001b[1;34m(self, n, keep)\u001b[0m\n\u001b[0;32m   <a href='file:///c%3A/Users/meilu/AppData/Local/Programs/Python/Python310/lib/site-packages/pandas/core/series.py?line=3739'>3740</a>\u001b[0m \u001b[39mdef\u001b[39;00m \u001b[39mnlargest\u001b[39m(\u001b[39mself\u001b[39m, n\u001b[39m=\u001b[39m\u001b[39m5\u001b[39m, keep\u001b[39m=\u001b[39m\u001b[39m\"\u001b[39m\u001b[39mfirst\u001b[39m\u001b[39m\"\u001b[39m) \u001b[39m-\u001b[39m\u001b[39m>\u001b[39m Series:\n\u001b[0;32m   <a href='file:///c%3A/Users/meilu/AppData/Local/Programs/Python/Python310/lib/site-packages/pandas/core/series.py?line=3740'>3741</a>\u001b[0m     \u001b[39m\"\"\"\u001b[39;00m\n\u001b[0;32m   <a href='file:///c%3A/Users/meilu/AppData/Local/Programs/Python/Python310/lib/site-packages/pandas/core/series.py?line=3741'>3742</a>\u001b[0m \u001b[39m    Return the largest `n` elements.\u001b[39;00m\n\u001b[0;32m   <a href='file:///c%3A/Users/meilu/AppData/Local/Programs/Python/Python310/lib/site-packages/pandas/core/series.py?line=3742'>3743</a>\u001b[0m \n\u001b[1;32m   (...)\u001b[0m\n\u001b[0;32m   <a href='file:///c%3A/Users/meilu/AppData/Local/Programs/Python/Python310/lib/site-packages/pandas/core/series.py?line=3833'>3834</a>\u001b[0m \u001b[39m    dtype: int64\u001b[39;00m\n\u001b[0;32m   <a href='file:///c%3A/Users/meilu/AppData/Local/Programs/Python/Python310/lib/site-packages/pandas/core/series.py?line=3834'>3835</a>\u001b[0m \u001b[39m    \"\"\"\u001b[39;00m\n\u001b[1;32m-> <a href='file:///c%3A/Users/meilu/AppData/Local/Programs/Python/Python310/lib/site-packages/pandas/core/series.py?line=3835'>3836</a>\u001b[0m     \u001b[39mreturn\u001b[39;00m algorithms\u001b[39m.\u001b[39;49mSelectNSeries(\u001b[39mself\u001b[39;49m, n\u001b[39m=\u001b[39;49mn, keep\u001b[39m=\u001b[39;49mkeep)\u001b[39m.\u001b[39;49mnlargest()\n",
      "File \u001b[1;32m~\\AppData\\Local\\Programs\\Python\\Python310\\lib\\site-packages\\pandas\\core\\algorithms.py:1137\u001b[0m, in \u001b[0;36mSelectN.nlargest\u001b[1;34m(self)\u001b[0m\n\u001b[0;32m   <a href='file:///c%3A/Users/meilu/AppData/Local/Programs/Python/Python310/lib/site-packages/pandas/core/algorithms.py?line=1134'>1135</a>\u001b[0m \u001b[39m@final\u001b[39m\n\u001b[0;32m   <a href='file:///c%3A/Users/meilu/AppData/Local/Programs/Python/Python310/lib/site-packages/pandas/core/algorithms.py?line=1135'>1136</a>\u001b[0m \u001b[39mdef\u001b[39;00m \u001b[39mnlargest\u001b[39m(\u001b[39mself\u001b[39m):\n\u001b[1;32m-> <a href='file:///c%3A/Users/meilu/AppData/Local/Programs/Python/Python310/lib/site-packages/pandas/core/algorithms.py?line=1136'>1137</a>\u001b[0m     \u001b[39mreturn\u001b[39;00m \u001b[39mself\u001b[39;49m\u001b[39m.\u001b[39;49mcompute(\u001b[39m\"\u001b[39;49m\u001b[39mnlargest\u001b[39;49m\u001b[39m\"\u001b[39;49m)\n",
      "File \u001b[1;32m~\\AppData\\Local\\Programs\\Python\\Python310\\lib\\site-packages\\pandas\\core\\algorithms.py:1177\u001b[0m, in \u001b[0;36mSelectNSeries.compute\u001b[1;34m(self, method)\u001b[0m\n\u001b[0;32m   <a href='file:///c%3A/Users/meilu/AppData/Local/Programs/Python/Python310/lib/site-packages/pandas/core/algorithms.py?line=1174'>1175</a>\u001b[0m dtype \u001b[39m=\u001b[39m \u001b[39mself\u001b[39m\u001b[39m.\u001b[39mobj\u001b[39m.\u001b[39mdtype\n\u001b[0;32m   <a href='file:///c%3A/Users/meilu/AppData/Local/Programs/Python/Python310/lib/site-packages/pandas/core/algorithms.py?line=1175'>1176</a>\u001b[0m \u001b[39mif\u001b[39;00m \u001b[39mnot\u001b[39;00m \u001b[39mself\u001b[39m\u001b[39m.\u001b[39mis_valid_dtype_n_method(dtype):\n\u001b[1;32m-> <a href='file:///c%3A/Users/meilu/AppData/Local/Programs/Python/Python310/lib/site-packages/pandas/core/algorithms.py?line=1176'>1177</a>\u001b[0m     \u001b[39mraise\u001b[39;00m \u001b[39mTypeError\u001b[39;00m(\u001b[39mf\u001b[39m\u001b[39m\"\u001b[39m\u001b[39mCannot use method \u001b[39m\u001b[39m'\u001b[39m\u001b[39m{\u001b[39;00mmethod\u001b[39m}\u001b[39;00m\u001b[39m'\u001b[39m\u001b[39m with dtype \u001b[39m\u001b[39m{\u001b[39;00mdtype\u001b[39m}\u001b[39;00m\u001b[39m\"\u001b[39m)\n\u001b[0;32m   <a href='file:///c%3A/Users/meilu/AppData/Local/Programs/Python/Python310/lib/site-packages/pandas/core/algorithms.py?line=1178'>1179</a>\u001b[0m \u001b[39mif\u001b[39;00m n \u001b[39m<\u001b[39m\u001b[39m=\u001b[39m \u001b[39m0\u001b[39m:\n\u001b[0;32m   <a href='file:///c%3A/Users/meilu/AppData/Local/Programs/Python/Python310/lib/site-packages/pandas/core/algorithms.py?line=1179'>1180</a>\u001b[0m     \u001b[39mreturn\u001b[39;00m \u001b[39mself\u001b[39m\u001b[39m.\u001b[39mobj[[]]\n",
      "\u001b[1;31mTypeError\u001b[0m: Cannot use method 'nlargest' with dtype object"
     ]
    }
   ],
   "source": []
  },
  {
   "cell_type": "markdown",
   "metadata": {},
   "source": [
    "### Part 3:Exploratory Data Analysis\n",
    "\n",
    "\n",
    "##### Does Genre Matter?\n",
    "\n",
    "##### Does Rating Matter?\n",
    "\n",
    "##### Does Number of Episodes Matter?\n",
    "\n",
    "##### Does Release Date?\n"
   ]
  },
  {
   "cell_type": "code",
   "execution_count": null,
   "metadata": {},
   "outputs": [],
   "source": [
    "# Top 100 Subscribed Webtoons of All Time\n",
    "top_100_sub_all = dataset.groupby(by=\"released_year\")[\"subscribe\"].nlargest(n=10)\n",
    "top_100_sub_all"
   ]
  },
  {
   "cell_type": "markdown",
   "metadata": {},
   "source": [
    "### Part 4: Hypothesis Testing\n",
    "\n",
    "Linear Regression"
   ]
  },
  {
   "cell_type": "code",
   "execution_count": null,
   "metadata": {},
   "outputs": [],
   "source": []
  },
  {
   "cell_type": "markdown",
   "metadata": {},
   "source": [
    "### Part 5: Insights\n",
    "\n",
    "#### Pros and Cons of Approach\n",
    "\n",
    "#### Resources for further learning"
   ]
  }
 ],
 "metadata": {
  "interpreter": {
   "hash": "a006a5ce65cd5be247cf7a273202e30de337874593d71a62d6cf22d79c727552"
  },
  "kernelspec": {
   "display_name": "Python 3.9.12 64-bit (windows store)",
   "language": "python",
   "name": "python3"
  },
  "language_info": {
   "codemirror_mode": {
    "name": "ipython",
    "version": 3
   },
   "file_extension": ".py",
   "mimetype": "text/x-python",
   "name": "python",
   "nbconvert_exporter": "python",
   "pygments_lexer": "ipython3",
   "version": "3.10.0"
  },
  "orig_nbformat": 4
 },
 "nbformat": 4,
 "nbformat_minor": 2
}
